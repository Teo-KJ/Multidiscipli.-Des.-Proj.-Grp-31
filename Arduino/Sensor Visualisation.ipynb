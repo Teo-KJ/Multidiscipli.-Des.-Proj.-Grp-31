{
 "cells": [
  {
   "cell_type": "code",
   "execution_count": 1,
   "metadata": {},
   "outputs": [],
   "source": [
    "import pandas as pd\n",
    "import seaborn as sb\n",
    "from matplotlib import pyplot as plt\n",
    "import numpy as np"
   ]
  },
  {
   "cell_type": "markdown",
   "metadata": {},
   "source": [
    "## Front Sensors"
   ]
  },
  {
   "cell_type": "code",
   "execution_count": 2,
   "metadata": {},
   "outputs": [
    {
     "data": {
      "text/html": [
       "<div>\n",
       "<style scoped>\n",
       "    .dataframe tbody tr th:only-of-type {\n",
       "        vertical-align: middle;\n",
       "    }\n",
       "\n",
       "    .dataframe tbody tr th {\n",
       "        vertical-align: top;\n",
       "    }\n",
       "\n",
       "    .dataframe thead th {\n",
       "        text-align: right;\n",
       "    }\n",
       "</style>\n",
       "<table border=\"1\" class=\"dataframe\">\n",
       "  <thead>\n",
       "    <tr style=\"text-align: right;\">\n",
       "      <th></th>\n",
       "      <th>index</th>\n",
       "      <th>sensor1_Reading</th>\n",
       "      <th>sensor2_Reading</th>\n",
       "      <th>sensor3_Reading</th>\n",
       "      <th>timeframe</th>\n",
       "    </tr>\n",
       "  </thead>\n",
       "  <tbody>\n",
       "    <tr>\n",
       "      <th>0</th>\n",
       "      <td>0</td>\n",
       "      <td>88.0</td>\n",
       "      <td>90.0</td>\n",
       "      <td>99.0</td>\n",
       "      <td>1</td>\n",
       "    </tr>\n",
       "    <tr>\n",
       "      <th>1</th>\n",
       "      <td>1</td>\n",
       "      <td>85.0</td>\n",
       "      <td>87.0</td>\n",
       "      <td>99.0</td>\n",
       "      <td>2</td>\n",
       "    </tr>\n",
       "    <tr>\n",
       "      <th>2</th>\n",
       "      <td>2</td>\n",
       "      <td>86.0</td>\n",
       "      <td>89.0</td>\n",
       "      <td>97.0</td>\n",
       "      <td>3</td>\n",
       "    </tr>\n",
       "    <tr>\n",
       "      <th>3</th>\n",
       "      <td>3</td>\n",
       "      <td>86.0</td>\n",
       "      <td>89.0</td>\n",
       "      <td>99.0</td>\n",
       "      <td>4</td>\n",
       "    </tr>\n",
       "    <tr>\n",
       "      <th>4</th>\n",
       "      <td>4</td>\n",
       "      <td>86.0</td>\n",
       "      <td>88.0</td>\n",
       "      <td>99.0</td>\n",
       "      <td>5</td>\n",
       "    </tr>\n",
       "  </tbody>\n",
       "</table>\n",
       "</div>"
      ],
      "text/plain": [
       "   index  sensor1_Reading  sensor2_Reading  sensor3_Reading  timeframe\n",
       "0      0             88.0             90.0             99.0          1\n",
       "1      1             85.0             87.0             99.0          2\n",
       "2      2             86.0             89.0             97.0          3\n",
       "3      3             86.0             89.0             99.0          4\n",
       "4      4             86.0             88.0             99.0          5"
      ]
     },
     "execution_count": 2,
     "metadata": {},
     "output_type": "execute_result"
    }
   ],
   "source": [
    "frontSensorDF = pd.read_csv('front sensors.txt', sep=\": \", header=None, engine='python')\n",
    "frontSensorDF.columns = ['field', 'reading']\n",
    "\n",
    "a = frontSensorDF.loc[frontSensorDF['field'] == 'Front Right sensor 1 median reading']\n",
    "b = frontSensorDF.loc[frontSensorDF['field'] == 'Front Mid sensor 2 median reading']\n",
    "c = frontSensorDF.loc[frontSensorDF['field'] == 'Front Left sensor 3 median reading']\n",
    "\n",
    "frontSensorDFImproved = pd.DataFrame()\n",
    "frontSensorDFImproved['sensor1_Reading'] = list(a['reading'])\n",
    "frontSensorDFImproved['sensor2_Reading'] = list(b['reading'])\n",
    "frontSensorDFImproved['sensor3_Reading'] = list(c['reading'])\n",
    "\n",
    "frontSensorDFImproved = frontSensorDFImproved.reset_index()\n",
    "frontSensorDFImproved['timeframe'] = frontSensorDFImproved.index + 1\n",
    "frontSensorDFImproved.drop(columns = 'index')\n",
    "frontSensorDFImproved.head()"
   ]
  },
  {
   "cell_type": "code",
   "execution_count": 3,
   "metadata": {},
   "outputs": [
    {
     "data": {
      "text/plain": [
       "count    139.000000\n",
       "mean     176.625899\n",
       "std       57.293077\n",
       "min       85.000000\n",
       "25%      124.500000\n",
       "50%      175.000000\n",
       "75%      226.500000\n",
       "max      272.000000\n",
       "Name: sensor1_Reading, dtype: float64"
      ]
     },
     "execution_count": 3,
     "metadata": {},
     "output_type": "execute_result"
    }
   ],
   "source": [
    "frontSensorDFImproved['sensor1_Reading'].describe()"
   ]
  },
  {
   "cell_type": "code",
   "execution_count": 4,
   "metadata": {},
   "outputs": [
    {
     "data": {
      "text/plain": [
       "count    139.000000\n",
       "mean     181.503597\n",
       "std       59.485886\n",
       "min       87.000000\n",
       "25%      127.000000\n",
       "50%      178.000000\n",
       "75%      233.500000\n",
       "max      283.000000\n",
       "Name: sensor2_Reading, dtype: float64"
      ]
     },
     "execution_count": 4,
     "metadata": {},
     "output_type": "execute_result"
    }
   ],
   "source": [
    "frontSensorDFImproved['sensor2_Reading'].describe()"
   ]
  },
  {
   "cell_type": "code",
   "execution_count": 5,
   "metadata": {},
   "outputs": [
    {
     "data": {
      "text/plain": [
       "count    139.000000\n",
       "mean     205.669065\n",
       "std       68.944463\n",
       "min       97.000000\n",
       "25%      144.000000\n",
       "50%      207.000000\n",
       "75%      257.500000\n",
       "max      321.000000\n",
       "Name: sensor3_Reading, dtype: float64"
      ]
     },
     "execution_count": 5,
     "metadata": {},
     "output_type": "execute_result"
    }
   ],
   "source": [
    "frontSensorDFImproved['sensor3_Reading'].describe()"
   ]
  },
  {
   "cell_type": "code",
   "execution_count": 6,
   "metadata": {},
   "outputs": [
    {
     "data": {
      "image/png": "[encoded data removed]",
      "text/plain": [
       "<Figure size 720x648 with 1 Axes>"
      ]
     },
     "metadata": {
      "needs_background": "light"
     },
     "output_type": "display_data"
    }
   ],
   "source": [
    "plt.figure(figsize=(10, 9))\n",
    "plt.scatter(frontSensorDFImproved['timeframe'], frontSensorDFImproved['sensor1_Reading'], color='r')\n",
    "plt.scatter(frontSensorDFImproved['timeframe'], frontSensorDFImproved['sensor2_Reading'], color='g')\n",
    "plt.scatter(frontSensorDFImproved['timeframe'], frontSensorDFImproved['sensor3_Reading'], color='b')\n",
    "plt.legend()\n",
    "plt.xlabel('Time Period')\n",
    "plt.ylabel('Sensor Reading (mm)')\n",
    "plt.show()"
   ]
  },
  {
   "cell_type": "markdown",
   "metadata": {},
   "source": [
    "## Left Sensors"
   ]
  },
  {
   "cell_type": "code",
   "execution_count": 7,
   "metadata": {},
   "outputs": [
    {
     "data": {
      "text/html": [
       "<div>\n",
       "<style scoped>\n",
       "    .dataframe tbody tr th:only-of-type {\n",
       "        vertical-align: middle;\n",
       "    }\n",
       "\n",
       "    .dataframe tbody tr th {\n",
       "        vertical-align: top;\n",
       "    }\n",
       "\n",
       "    .dataframe thead th {\n",
       "        text-align: right;\n",
       "    }\n",
       "</style>\n",
       "<table border=\"1\" class=\"dataframe\">\n",
       "  <thead>\n",
       "    <tr style=\"text-align: right;\">\n",
       "      <th></th>\n",
       "      <th>index</th>\n",
       "      <th>sensor4_Reading</th>\n",
       "      <th>sensor5_Reading</th>\n",
       "      <th>timeframe</th>\n",
       "    </tr>\n",
       "  </thead>\n",
       "  <tbody>\n",
       "    <tr>\n",
       "      <th>0</th>\n",
       "      <td>0</td>\n",
       "      <td>87.0</td>\n",
       "      <td>90.0</td>\n",
       "      <td>1</td>\n",
       "    </tr>\n",
       "    <tr>\n",
       "      <th>1</th>\n",
       "      <td>1</td>\n",
       "      <td>87.0</td>\n",
       "      <td>89.0</td>\n",
       "      <td>2</td>\n",
       "    </tr>\n",
       "    <tr>\n",
       "      <th>2</th>\n",
       "      <td>2</td>\n",
       "      <td>88.0</td>\n",
       "      <td>89.0</td>\n",
       "      <td>3</td>\n",
       "    </tr>\n",
       "    <tr>\n",
       "      <th>3</th>\n",
       "      <td>3</td>\n",
       "      <td>87.0</td>\n",
       "      <td>89.0</td>\n",
       "      <td>4</td>\n",
       "    </tr>\n",
       "    <tr>\n",
       "      <th>4</th>\n",
       "      <td>4</td>\n",
       "      <td>87.0</td>\n",
       "      <td>88.0</td>\n",
       "      <td>5</td>\n",
       "    </tr>\n",
       "  </tbody>\n",
       "</table>\n",
       "</div>"
      ],
      "text/plain": [
       "   index  sensor4_Reading  sensor5_Reading  timeframe\n",
       "0      0             87.0             90.0          1\n",
       "1      1             87.0             89.0          2\n",
       "2      2             88.0             89.0          3\n",
       "3      3             87.0             89.0          4\n",
       "4      4             87.0             88.0          5"
      ]
     },
     "execution_count": 7,
     "metadata": {},
     "output_type": "execute_result"
    }
   ],
   "source": [
    "leftSensorsDF = pd.read_csv('left sensors.txt', sep=\": \", header=None, engine='python')\n",
    "leftSensorsDF.columns = ['field', 'reading']\n",
    "\n",
    "D = leftSensorsDF.loc[leftSensorsDF['field'] == 'Left Front sensor 4 median reading']\n",
    "E = leftSensorsDF.loc[leftSensorsDF['field'] == 'Left Back sensor 5 median reading']\n",
    "\n",
    "leftSensorsDFImproved = pd.DataFrame()\n",
    "leftSensorsDFImproved['sensor4_Reading'] = list(D['reading'])\n",
    "leftSensorsDFImproved['sensor5_Reading'] = list(E['reading'])\n",
    "\n",
    "leftSensorsDFImproved = leftSensorsDFImproved.reset_index()\n",
    "leftSensorsDFImproved['timeframe'] = leftSensorsDFImproved.index + 1\n",
    "leftSensorsDFImproved.drop(columns = 'index')\n",
    "leftSensorsDFImproved.head()"
   ]
  },
  {
   "cell_type": "code",
   "execution_count": 8,
   "metadata": {},
   "outputs": [
    {
     "data": {
      "text/plain": [
       "count    248.000000\n",
       "mean     179.879032\n",
       "std       57.844702\n",
       "min       86.000000\n",
       "25%      127.000000\n",
       "50%      180.500000\n",
       "75%      227.000000\n",
       "max      286.000000\n",
       "Name: sensor4_Reading, dtype: float64"
      ]
     },
     "execution_count": 8,
     "metadata": {},
     "output_type": "execute_result"
    }
   ],
   "source": [
    "leftSensorsDFImproved['sensor4_Reading'].describe()"
   ]
  },
  {
   "cell_type": "code",
   "execution_count": 9,
   "metadata": {},
   "outputs": [
    {
     "data": {
      "text/plain": [
       "count    248.000000\n",
       "mean     183.641129\n",
       "std       58.357375\n",
       "min       88.000000\n",
       "25%      131.000000\n",
       "50%      181.500000\n",
       "75%      234.000000\n",
       "max      290.000000\n",
       "Name: sensor5_Reading, dtype: float64"
      ]
     },
     "execution_count": 9,
     "metadata": {},
     "output_type": "execute_result"
    }
   ],
   "source": [
    "leftSensorsDFImproved['sensor5_Reading'].describe()"
   ]
  },
  {
   "cell_type": "code",
   "execution_count": 10,
   "metadata": {},
   "outputs": [
    {
     "data": {
      "image/png": "[encoded data removed]",
      "text/plain": [
       "<Figure size 720x648 with 1 Axes>"
      ]
     },
     "metadata": {
      "needs_background": "light"
     },
     "output_type": "display_data"
    }
   ],
   "source": [
    "plt.figure(figsize=(10, 9))\n",
    "plt.scatter(leftSensorsDFImproved['timeframe'], leftSensorsDFImproved['sensor4_Reading'], color='purple')\n",
    "plt.scatter(leftSensorsDFImproved['timeframe'], leftSensorsDFImproved['sensor5_Reading'], color='orange')\n",
    "plt.legend()\n",
    "plt.xlabel('Time Period')\n",
    "plt.ylabel('Sensor Reading (mm)')\n",
    "plt.show()"
   ]
  },
  {
   "cell_type": "markdown",
   "metadata": {},
   "source": [
    "## Right Sensor"
   ]
  },
  {
   "cell_type": "code",
   "execution_count": 11,
   "metadata": {},
   "outputs": [
    {
     "data": {
      "text/html": [
       "<div>\n",
       "<style scoped>\n",
       "    .dataframe tbody tr th:only-of-type {\n",
       "        vertical-align: middle;\n",
       "    }\n",
       "\n",
       "    .dataframe tbody tr th {\n",
       "        vertical-align: top;\n",
       "    }\n",
       "\n",
       "    .dataframe thead th {\n",
       "        text-align: right;\n",
       "    }\n",
       "</style>\n",
       "<table border=\"1\" class=\"dataframe\">\n",
       "  <thead>\n",
       "    <tr style=\"text-align: right;\">\n",
       "      <th></th>\n",
       "      <th>field</th>\n",
       "      <th>sensor6_Reading</th>\n",
       "      <th>timeframe</th>\n",
       "    </tr>\n",
       "  </thead>\n",
       "  <tbody>\n",
       "    <tr>\n",
       "      <th>0</th>\n",
       "      <td>Right Long sensor 6 median reading</td>\n",
       "      <td>191.0</td>\n",
       "      <td>1</td>\n",
       "    </tr>\n",
       "    <tr>\n",
       "      <th>1</th>\n",
       "      <td>Right Long sensor 6 median reading</td>\n",
       "      <td>195.0</td>\n",
       "      <td>2</td>\n",
       "    </tr>\n",
       "    <tr>\n",
       "      <th>2</th>\n",
       "      <td>Right Long sensor 6 median reading</td>\n",
       "      <td>195.0</td>\n",
       "      <td>3</td>\n",
       "    </tr>\n",
       "    <tr>\n",
       "      <th>3</th>\n",
       "      <td>Right Long sensor 6 median reading</td>\n",
       "      <td>194.0</td>\n",
       "      <td>4</td>\n",
       "    </tr>\n",
       "    <tr>\n",
       "      <th>4</th>\n",
       "      <td>Right Long sensor 6 median reading</td>\n",
       "      <td>193.0</td>\n",
       "      <td>5</td>\n",
       "    </tr>\n",
       "  </tbody>\n",
       "</table>\n",
       "</div>"
      ],
      "text/plain": [
       "                                field  sensor6_Reading  timeframe\n",
       "0  Right Long sensor 6 median reading            191.0          1\n",
       "1  Right Long sensor 6 median reading            195.0          2\n",
       "2  Right Long sensor 6 median reading            195.0          3\n",
       "3  Right Long sensor 6 median reading            194.0          4\n",
       "4  Right Long sensor 6 median reading            193.0          5"
      ]
     },
     "execution_count": 11,
     "metadata": {},
     "output_type": "execute_result"
    }
   ],
   "source": [
    "rightSensorDF = pd.read_csv('right long sensor.txt', sep=\": \", header=None, engine='python')\n",
    "rightSensorDF.columns = ['field', 'sensor6_Reading']\n",
    "rightSensorDF['timeframe'] = rightSensorDF.index + 1\n",
    "rightSensorDF.head()"
   ]
  },
  {
   "cell_type": "code",
   "execution_count": 12,
   "metadata": {},
   "outputs": [
    {
     "data": {
      "text/plain": [
       "count    210.000000\n",
       "mean     206.904762\n",
       "std       25.782129\n",
       "min      174.000000\n",
       "25%      185.000000\n",
       "50%      200.000000\n",
       "75%      225.000000\n",
       "max      267.000000\n",
       "Name: sensor6_Reading, dtype: float64"
      ]
     },
     "execution_count": 12,
     "metadata": {},
     "output_type": "execute_result"
    }
   ],
   "source": [
    "rightSensorDF['sensor6_Reading'].describe()"
   ]
  },
  {
   "cell_type": "code",
   "execution_count": 13,
   "metadata": {},
   "outputs": [
    {
     "data": {
      "image/png": "[encoded data removed]",
      "text/plain": [
       "<Figure size 720x576 with 1 Axes>"
      ]
     },
     "metadata": {
      "needs_background": "light"
     },
     "output_type": "display_data"
    }
   ],
   "source": [
    "plt.figure(figsize=(10, 8))\n",
    "plt.scatter(rightSensorDF['timeframe'], rightSensorDF['sensor6_Reading'])\n",
    "plt.legend()\n",
    "plt.xlabel('Time Period')\n",
    "plt.ylabel('Sensor Reading (mm)')\n",
    "plt.show()"
   ]
  },
  {
   "cell_type": "code",
   "execution_count": null,
   "metadata": {},
   "outputs": [],
   "source": []
  }
 ],
 "metadata": {
  "kernelspec": {
   "display_name": "Python 3",
   "language": "python",
   "name": "python3"
  },
  "language_info": {
   "codemirror_mode": {
    "name": "ipython",
    "version": 3
   },
   "file_extension": ".py",
   "mimetype": "text/x-python",
   "name": "python",
   "nbconvert_exporter": "python",
   "pygments_lexer": "ipython3",
   "version": "3.6.8"
  }
 },
 "nbformat": 4,
 "nbformat_minor": 4
}
